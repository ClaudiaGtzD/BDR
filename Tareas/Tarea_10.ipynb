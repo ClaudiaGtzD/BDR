{
  "nbformat": 4,
  "nbformat_minor": 0,
  "metadata": {
    "colab": {
      "provenance": [],
      "authorship_tag": "ABX9TyOCZUK+Q5cYDZwMQ+ohcLG9",
      "include_colab_link": true
    },
    "kernelspec": {
      "name": "python3",
      "display_name": "Python 3"
    },
    "language_info": {
      "name": "python"
    }
  },
  "cells": [
    {
      "cell_type": "markdown",
      "metadata": {
        "id": "view-in-github",
        "colab_type": "text"
      },
      "source": [
        "<a href=\"https://colab.research.google.com/github/ClaudiaGtzD/BDR/blob/master/Tarea_10.ipynb\" target=\"_parent\"><img src=\"https://colab.research.google.com/assets/colab-badge.svg\" alt=\"Open In Colab\"/></a>"
      ]
    },
    {
      "cell_type": "markdown",
      "source": [
        "# Universidad Autónoma de Nuevo León\n",
        "\n",
        "### MCD - Base de Datos Relacionales - Tarea 10\n",
        "\n",
        "### 1421582 - Claudia Lissette Gutiérrez Díaz"
      ],
      "metadata": {
        "id": "F4VKWujD0qaZ"
      }
    },
    {
      "cell_type": "markdown",
      "source": [
        "Realizamos la instalación del conector:"
      ],
      "metadata": {
        "id": "nIN8Ws4c36gN"
      }
    },
    {
      "cell_type": "code",
      "source": [
        "pip install mysql-connector-python"
      ],
      "metadata": {
        "id": "M6NuZsFmlvGq"
      },
      "execution_count": null,
      "outputs": []
    },
    {
      "cell_type": "markdown",
      "source": [
        "Realizamos la importación de las librerías."
      ],
      "metadata": {
        "id": "1__cYNaP4ZJo"
      }
    },
    {
      "cell_type": "code",
      "source": [
        "import mysql.connector as mysql\n",
        "import pandas as pd\n",
        "from pandas import DataFrame\n",
        "import matplotlib\n",
        "import matplotlib.pyplot as plt"
      ],
      "metadata": {
        "id": "Vfy-xsM3l6oC"
      },
      "execution_count": 48,
      "outputs": []
    },
    {
      "cell_type": "markdown",
      "source": [
        "Para que ésta conexión funcione, se debe realizar la conexión del entorno usando una variable local. En mi caso, usé la conexión mediante Jupyter Notebook, así que todo esto se ejecutó en mi computadora local. Una vez establecida la conexión, hacemos la prueba de conexión exitosa, imprimiendo todas las bases de datos."
      ],
      "metadata": {
        "id": "e0oX4V9V4c9L"
      }
    },
    {
      "cell_type": "code",
      "source": [
        "conn = mysql.connect(\n",
        "    host = '127.0.0.1',\n",
        "    user = 'root',\n",
        "    database = 'servicio_clientes',\n",
        "    password = '*******',\n",
        "    port = 3306\n",
        ")\n",
        "cursor = conn.cursor()\n",
        "cursor.execute(\"SHOW DATABASES\")\n",
        "df = cursor.fetchall()\n",
        "\n",
        "for data in df:\n",
        "  print(data)"
      ],
      "metadata": {
        "colab": {
          "base_uri": "https://localhost:8080/"
        },
        "id": "T07iwcB9mAf7",
        "outputId": "e3ba2c43-9e5f-46d7-ba9f-7f96b0716252"
      },
      "execution_count": 88,
      "outputs": [
        {
          "output_type": "stream",
          "name": "stdout",
          "text": [
            "('ejemplo',)\n",
            "('information_schema',)\n",
            "('lahmansbaseballdb',)\n",
            "('movies',)\n",
            "('mysql',)\n",
            "('performance_schema',)\n",
            "('prueba',)\n",
            "('sakila',)\n",
            "('servicio_clientes',)\n",
            "('sys',)\n",
            "('usuarios_carros',)\n",
            "('vistas',)\n",
            "('world',)\n"
          ]
        }
      ]
    },
    {
      "cell_type": "markdown",
      "source": [
        "Vamos a leer la información de quejas, usando la vista que hice en tareas pasadas, que es la tabla principal. Aquí al ejecutar el query, no me estaba regresando el nombre de las columnas, por lo que mejor usé read_sql."
      ],
      "metadata": {
        "id": "mTSe_CZ846dl"
      }
    },
    {
      "cell_type": "code",
      "source": [
        " query = \"SELECT * FROM datosqueja\"\n",
        " quejas = pd.read_sql(query, con = conn)"
      ],
      "metadata": {
        "id": "pNpBh3wDviN6"
      },
      "execution_count": null,
      "outputs": []
    },
    {
      "cell_type": "markdown",
      "source": [
        "Imprimimos:"
      ],
      "metadata": {
        "id": "L4vohSz09y--"
      }
    },
    {
      "cell_type": "code",
      "source": [
        "quejas"
      ],
      "metadata": {
        "colab": {
          "base_uri": "https://localhost:8080/",
          "height": 947
        },
        "id": "jzDFphGcvnW_",
        "outputId": "600b34da-baef-4f11-8358-fb45b9308909"
      },
      "execution_count": 66,
      "outputs": [
        {
          "output_type": "execute_result",
          "data": {
            "text/plain": [
              "         id fecha_recepcion fecha_envio         producto  \\\n",
              "0        60      2013-07-29  2013-09-17  Debt collection   \n",
              "1        62      2013-07-29  2013-08-13         Mortgage   \n",
              "2       138      2013-07-31  2013-08-05         Mortgage   \n",
              "3       245      2013-07-22  2013-07-25         Mortgage   \n",
              "4       343      2013-08-06  2013-08-09         Mortgage   \n",
              "...     ...             ...         ...              ...   \n",
              "10616  9797      2013-12-03  2014-01-09         Mortgage   \n",
              "10617  9964      2013-11-07  2013-12-04      Payday loan   \n",
              "10618  5823      2013-09-27  2013-09-30  Debt collection   \n",
              "10619  8878      2013-11-13  2013-12-04      Payday loan   \n",
              "10620  6224      2013-09-24  2013-09-24  Debt collection   \n",
              "\n",
              "                                 subproducto  \\\n",
              "0                                Credit card   \n",
              "1                             Other mortgage   \n",
              "2                Conventional fixed mortgage   \n",
              "3                               FHA mortgage   \n",
              "4                Conventional fixed mortgage   \n",
              "...                                      ...   \n",
              "10616            Conventional fixed mortgage   \n",
              "10617                            Payday loan   \n",
              "10618                          I do not know   \n",
              "10619                            Payday loan   \n",
              "10620  Other (i.e. phone, health club, etc.)   \n",
              "\n",
              "                                         asunto  \\\n",
              "0                         Communication tactics   \n",
              "1      Loan servicing, payments, escrow account   \n",
              "2      Loan servicing, payments, escrow account   \n",
              "3      Loan servicing, payments, escrow account   \n",
              "4      Loan modification,collection,foreclosure   \n",
              "...                                         ...   \n",
              "10616  Application, originator, mortgage broker   \n",
              "10617  Charged fees or interest I didn't expect   \n",
              "10618           Disclosure verification of debt   \n",
              "10619  Charged fees or interest I didn't expect   \n",
              "10620           Disclosure verification of debt   \n",
              "\n",
              "                                      subasunto descripcion_queja  \\\n",
              "0               Threatened to take legal action                     \n",
              "1                                          None                     \n",
              "2                                          None                     \n",
              "3                                          None                     \n",
              "4                                          None                     \n",
              "...                                         ...               ...   \n",
              "10616                                      None                     \n",
              "10617  Charged fees or interest I didn't expect                     \n",
              "10618      Not given enough info to verify debt                     \n",
              "10619  Charged fees or interest I didn't expect                     \n",
              "10620      Not given enough info to verify debt                     \n",
              "\n",
              "      descripcion_solucion                                 compania  \\\n",
              "0                                      Borenstein & Associates, LLC   \n",
              "1                                                             Ocwen   \n",
              "2                                    Specialized Loan Servicing LLC   \n",
              "3                           American Southwest Mortgage Corporation   \n",
              "4                                    Specialized Loan Servicing LLC   \n",
              "...                    ...                                      ...   \n",
              "10616                                             Prudent Law Group   \n",
              "10617                                                Mobiloans, LLC   \n",
              "10618                                          Encore Capital Group   \n",
              "10619                                                Mobiloans, LLC   \n",
              "10620                                          Encore Capital Group   \n",
              "\n",
              "             estado codigo_postal      etiquetas estatus_autorizacion  \\\n",
              "0           Wyoming         82605                                 N/A   \n",
              "1          New York         10038                                 N/A   \n",
              "2        California         94565                                 N/A   \n",
              "3             Texas         76116  Servicemember                  N/A   \n",
              "4        Washington         98225                                 N/A   \n",
              "...             ...           ...            ...                  ...   \n",
              "10616       Florida         34610                                 N/A   \n",
              "10617  Pennsylvania         19610                                 N/A   \n",
              "10618    California         95010                                 N/A   \n",
              "10619     Tennessee         37209                                 N/A   \n",
              "10620    California         93455                                 N/A   \n",
              "\n",
              "      medio_comunicacion      estatus_queja se_abre_disputa  tiempo_respuesta  \n",
              "0                    Web             Closed              No                50  \n",
              "1                    Web             Closed              No                15  \n",
              "2                    Web             Closed              No                 5  \n",
              "3                    Web             Closed              Sí                 3  \n",
              "4                    Web             Closed              No                 3  \n",
              "...                  ...                ...             ...               ...  \n",
              "10616                Web  Untimely response              No                37  \n",
              "10617                Web  Untimely response              No                27  \n",
              "10618           Referral  Untimely response              No                 3  \n",
              "10619           Referral  Untimely response              No                21  \n",
              "10620        Postal mail  Untimely response              No                 0  \n",
              "\n",
              "[10621 rows x 18 columns]"
            ],
            "text/html": [
              "<div>\n",
              "<style scoped>\n",
              "    .dataframe tbody tr th:only-of-type {\n",
              "        vertical-align: middle;\n",
              "    }\n",
              "\n",
              "    .dataframe tbody tr th {\n",
              "        vertical-align: top;\n",
              "    }\n",
              "\n",
              "    .dataframe thead th {\n",
              "        text-align: right;\n",
              "    }\n",
              "</style>\n",
              "<table border=\"1\" class=\"dataframe\">\n",
              "  <thead>\n",
              "    <tr style=\"text-align: right;\">\n",
              "      <th></th>\n",
              "      <th>id</th>\n",
              "      <th>fecha_recepcion</th>\n",
              "      <th>fecha_envio</th>\n",
              "      <th>producto</th>\n",
              "      <th>subproducto</th>\n",
              "      <th>asunto</th>\n",
              "      <th>subasunto</th>\n",
              "      <th>descripcion_queja</th>\n",
              "      <th>descripcion_solucion</th>\n",
              "      <th>compania</th>\n",
              "      <th>estado</th>\n",
              "      <th>codigo_postal</th>\n",
              "      <th>etiquetas</th>\n",
              "      <th>estatus_autorizacion</th>\n",
              "      <th>medio_comunicacion</th>\n",
              "      <th>estatus_queja</th>\n",
              "      <th>se_abre_disputa</th>\n",
              "      <th>tiempo_respuesta</th>\n",
              "    </tr>\n",
              "  </thead>\n",
              "  <tbody>\n",
              "    <tr>\n",
              "      <th>0</th>\n",
              "      <td>60</td>\n",
              "      <td>2013-07-29</td>\n",
              "      <td>2013-09-17</td>\n",
              "      <td>Debt collection</td>\n",
              "      <td>Credit card</td>\n",
              "      <td>Communication tactics</td>\n",
              "      <td>Threatened to take legal action</td>\n",
              "      <td></td>\n",
              "      <td></td>\n",
              "      <td>Borenstein &amp; Associates, LLC</td>\n",
              "      <td>Wyoming</td>\n",
              "      <td>82605</td>\n",
              "      <td></td>\n",
              "      <td>N/A</td>\n",
              "      <td>Web</td>\n",
              "      <td>Closed</td>\n",
              "      <td>No</td>\n",
              "      <td>50</td>\n",
              "    </tr>\n",
              "    <tr>\n",
              "      <th>1</th>\n",
              "      <td>62</td>\n",
              "      <td>2013-07-29</td>\n",
              "      <td>2013-08-13</td>\n",
              "      <td>Mortgage</td>\n",
              "      <td>Other mortgage</td>\n",
              "      <td>Loan servicing, payments, escrow account</td>\n",
              "      <td>None</td>\n",
              "      <td></td>\n",
              "      <td></td>\n",
              "      <td>Ocwen</td>\n",
              "      <td>New York</td>\n",
              "      <td>10038</td>\n",
              "      <td></td>\n",
              "      <td>N/A</td>\n",
              "      <td>Web</td>\n",
              "      <td>Closed</td>\n",
              "      <td>No</td>\n",
              "      <td>15</td>\n",
              "    </tr>\n",
              "    <tr>\n",
              "      <th>2</th>\n",
              "      <td>138</td>\n",
              "      <td>2013-07-31</td>\n",
              "      <td>2013-08-05</td>\n",
              "      <td>Mortgage</td>\n",
              "      <td>Conventional fixed mortgage</td>\n",
              "      <td>Loan servicing, payments, escrow account</td>\n",
              "      <td>None</td>\n",
              "      <td></td>\n",
              "      <td></td>\n",
              "      <td>Specialized Loan Servicing LLC</td>\n",
              "      <td>California</td>\n",
              "      <td>94565</td>\n",
              "      <td></td>\n",
              "      <td>N/A</td>\n",
              "      <td>Web</td>\n",
              "      <td>Closed</td>\n",
              "      <td>No</td>\n",
              "      <td>5</td>\n",
              "    </tr>\n",
              "    <tr>\n",
              "      <th>3</th>\n",
              "      <td>245</td>\n",
              "      <td>2013-07-22</td>\n",
              "      <td>2013-07-25</td>\n",
              "      <td>Mortgage</td>\n",
              "      <td>FHA mortgage</td>\n",
              "      <td>Loan servicing, payments, escrow account</td>\n",
              "      <td>None</td>\n",
              "      <td></td>\n",
              "      <td></td>\n",
              "      <td>American Southwest Mortgage Corporation</td>\n",
              "      <td>Texas</td>\n",
              "      <td>76116</td>\n",
              "      <td>Servicemember</td>\n",
              "      <td>N/A</td>\n",
              "      <td>Web</td>\n",
              "      <td>Closed</td>\n",
              "      <td>Sí</td>\n",
              "      <td>3</td>\n",
              "    </tr>\n",
              "    <tr>\n",
              "      <th>4</th>\n",
              "      <td>343</td>\n",
              "      <td>2013-08-06</td>\n",
              "      <td>2013-08-09</td>\n",
              "      <td>Mortgage</td>\n",
              "      <td>Conventional fixed mortgage</td>\n",
              "      <td>Loan modification,collection,foreclosure</td>\n",
              "      <td>None</td>\n",
              "      <td></td>\n",
              "      <td></td>\n",
              "      <td>Specialized Loan Servicing LLC</td>\n",
              "      <td>Washington</td>\n",
              "      <td>98225</td>\n",
              "      <td></td>\n",
              "      <td>N/A</td>\n",
              "      <td>Web</td>\n",
              "      <td>Closed</td>\n",
              "      <td>No</td>\n",
              "      <td>3</td>\n",
              "    </tr>\n",
              "    <tr>\n",
              "      <th>...</th>\n",
              "      <td>...</td>\n",
              "      <td>...</td>\n",
              "      <td>...</td>\n",
              "      <td>...</td>\n",
              "      <td>...</td>\n",
              "      <td>...</td>\n",
              "      <td>...</td>\n",
              "      <td>...</td>\n",
              "      <td>...</td>\n",
              "      <td>...</td>\n",
              "      <td>...</td>\n",
              "      <td>...</td>\n",
              "      <td>...</td>\n",
              "      <td>...</td>\n",
              "      <td>...</td>\n",
              "      <td>...</td>\n",
              "      <td>...</td>\n",
              "      <td>...</td>\n",
              "    </tr>\n",
              "    <tr>\n",
              "      <th>10616</th>\n",
              "      <td>9797</td>\n",
              "      <td>2013-12-03</td>\n",
              "      <td>2014-01-09</td>\n",
              "      <td>Mortgage</td>\n",
              "      <td>Conventional fixed mortgage</td>\n",
              "      <td>Application, originator, mortgage broker</td>\n",
              "      <td>None</td>\n",
              "      <td></td>\n",
              "      <td></td>\n",
              "      <td>Prudent Law Group</td>\n",
              "      <td>Florida</td>\n",
              "      <td>34610</td>\n",
              "      <td></td>\n",
              "      <td>N/A</td>\n",
              "      <td>Web</td>\n",
              "      <td>Untimely response</td>\n",
              "      <td>No</td>\n",
              "      <td>37</td>\n",
              "    </tr>\n",
              "    <tr>\n",
              "      <th>10617</th>\n",
              "      <td>9964</td>\n",
              "      <td>2013-11-07</td>\n",
              "      <td>2013-12-04</td>\n",
              "      <td>Payday loan</td>\n",
              "      <td>Payday loan</td>\n",
              "      <td>Charged fees or interest I didn't expect</td>\n",
              "      <td>Charged fees or interest I didn't expect</td>\n",
              "      <td></td>\n",
              "      <td></td>\n",
              "      <td>Mobiloans, LLC</td>\n",
              "      <td>Pennsylvania</td>\n",
              "      <td>19610</td>\n",
              "      <td></td>\n",
              "      <td>N/A</td>\n",
              "      <td>Web</td>\n",
              "      <td>Untimely response</td>\n",
              "      <td>No</td>\n",
              "      <td>27</td>\n",
              "    </tr>\n",
              "    <tr>\n",
              "      <th>10618</th>\n",
              "      <td>5823</td>\n",
              "      <td>2013-09-27</td>\n",
              "      <td>2013-09-30</td>\n",
              "      <td>Debt collection</td>\n",
              "      <td>I do not know</td>\n",
              "      <td>Disclosure verification of debt</td>\n",
              "      <td>Not given enough info to verify debt</td>\n",
              "      <td></td>\n",
              "      <td></td>\n",
              "      <td>Encore Capital Group</td>\n",
              "      <td>California</td>\n",
              "      <td>95010</td>\n",
              "      <td></td>\n",
              "      <td>N/A</td>\n",
              "      <td>Referral</td>\n",
              "      <td>Untimely response</td>\n",
              "      <td>No</td>\n",
              "      <td>3</td>\n",
              "    </tr>\n",
              "    <tr>\n",
              "      <th>10619</th>\n",
              "      <td>8878</td>\n",
              "      <td>2013-11-13</td>\n",
              "      <td>2013-12-04</td>\n",
              "      <td>Payday loan</td>\n",
              "      <td>Payday loan</td>\n",
              "      <td>Charged fees or interest I didn't expect</td>\n",
              "      <td>Charged fees or interest I didn't expect</td>\n",
              "      <td></td>\n",
              "      <td></td>\n",
              "      <td>Mobiloans, LLC</td>\n",
              "      <td>Tennessee</td>\n",
              "      <td>37209</td>\n",
              "      <td></td>\n",
              "      <td>N/A</td>\n",
              "      <td>Referral</td>\n",
              "      <td>Untimely response</td>\n",
              "      <td>No</td>\n",
              "      <td>21</td>\n",
              "    </tr>\n",
              "    <tr>\n",
              "      <th>10620</th>\n",
              "      <td>6224</td>\n",
              "      <td>2013-09-24</td>\n",
              "      <td>2013-09-24</td>\n",
              "      <td>Debt collection</td>\n",
              "      <td>Other (i.e. phone, health club, etc.)</td>\n",
              "      <td>Disclosure verification of debt</td>\n",
              "      <td>Not given enough info to verify debt</td>\n",
              "      <td></td>\n",
              "      <td></td>\n",
              "      <td>Encore Capital Group</td>\n",
              "      <td>California</td>\n",
              "      <td>93455</td>\n",
              "      <td></td>\n",
              "      <td>N/A</td>\n",
              "      <td>Postal mail</td>\n",
              "      <td>Untimely response</td>\n",
              "      <td>No</td>\n",
              "      <td>0</td>\n",
              "    </tr>\n",
              "  </tbody>\n",
              "</table>\n",
              "<p>10621 rows × 18 columns</p>\n",
              "</div>"
            ]
          },
          "metadata": {},
          "execution_count": 66
        }
      ]
    },
    {
      "cell_type": "markdown",
      "source": [
        "Como consultas podemos obtener qué productos se reportan más mediante llamada telefónica."
      ],
      "metadata": {
        "id": "SndHOPc9_a6W"
      }
    },
    {
      "cell_type": "code",
      "source": [
        "query = \"SELECT producto, count(producto) AS cantidad FROM datosqueja d WHERE medio_comunicacion  = 'Phone' GROUP BY producto ORDER BY cantidad DESC\"\n",
        "productos = pd.read_sql(query, con = conn)"
      ],
      "metadata": {
        "id": "_zDCx__w_oAB"
      },
      "execution_count": null,
      "outputs": []
    },
    {
      "cell_type": "code",
      "source": [
        "productos"
      ],
      "metadata": {
        "colab": {
          "base_uri": "https://localhost:8080/",
          "height": 331
        },
        "id": "pZrmLB5AAi0F",
        "outputId": "77effb82-9241-42fc-8631-277421339a35"
      },
      "execution_count": 68,
      "outputs": [
        {
          "output_type": "execute_result",
          "data": {
            "text/plain": [
              "                  producto  cantidad\n",
              "0          Debt collection       318\n",
              "1                 Mortgage       308\n",
              "2  Bank account or service       226\n",
              "3              Credit card       127\n",
              "4            Consumer Loan        37\n",
              "5          Money transfers        22\n",
              "6             Student loan        13\n",
              "7         Credit reporting         3\n",
              "8              Payday loan         3"
            ],
            "text/html": [
              "<div>\n",
              "<style scoped>\n",
              "    .dataframe tbody tr th:only-of-type {\n",
              "        vertical-align: middle;\n",
              "    }\n",
              "\n",
              "    .dataframe tbody tr th {\n",
              "        vertical-align: top;\n",
              "    }\n",
              "\n",
              "    .dataframe thead th {\n",
              "        text-align: right;\n",
              "    }\n",
              "</style>\n",
              "<table border=\"1\" class=\"dataframe\">\n",
              "  <thead>\n",
              "    <tr style=\"text-align: right;\">\n",
              "      <th></th>\n",
              "      <th>producto</th>\n",
              "      <th>cantidad</th>\n",
              "    </tr>\n",
              "  </thead>\n",
              "  <tbody>\n",
              "    <tr>\n",
              "      <th>0</th>\n",
              "      <td>Debt collection</td>\n",
              "      <td>318</td>\n",
              "    </tr>\n",
              "    <tr>\n",
              "      <th>1</th>\n",
              "      <td>Mortgage</td>\n",
              "      <td>308</td>\n",
              "    </tr>\n",
              "    <tr>\n",
              "      <th>2</th>\n",
              "      <td>Bank account or service</td>\n",
              "      <td>226</td>\n",
              "    </tr>\n",
              "    <tr>\n",
              "      <th>3</th>\n",
              "      <td>Credit card</td>\n",
              "      <td>127</td>\n",
              "    </tr>\n",
              "    <tr>\n",
              "      <th>4</th>\n",
              "      <td>Consumer Loan</td>\n",
              "      <td>37</td>\n",
              "    </tr>\n",
              "    <tr>\n",
              "      <th>5</th>\n",
              "      <td>Money transfers</td>\n",
              "      <td>22</td>\n",
              "    </tr>\n",
              "    <tr>\n",
              "      <th>6</th>\n",
              "      <td>Student loan</td>\n",
              "      <td>13</td>\n",
              "    </tr>\n",
              "    <tr>\n",
              "      <th>7</th>\n",
              "      <td>Credit reporting</td>\n",
              "      <td>3</td>\n",
              "    </tr>\n",
              "    <tr>\n",
              "      <th>8</th>\n",
              "      <td>Payday loan</td>\n",
              "      <td>3</td>\n",
              "    </tr>\n",
              "  </tbody>\n",
              "</table>\n",
              "</div>"
            ]
          },
          "metadata": {},
          "execution_count": 68
        }
      ]
    },
    {
      "cell_type": "markdown",
      "source": [
        "Ahora, vamos a realizar el ABC, para probar la interacción entre las llamadas desde phyton a la base de datos."
      ],
      "metadata": {
        "id": "RZmdYaWF9pDN"
      }
    },
    {
      "cell_type": "code",
      "source": [
        "#Reemplazamos el código del estatus_queja de \"Ultimetly response\" a \"In Progress\", al reemplazarlo, ya no quedan registros en quejas\n",
        "query = \"\"\"UPDATE quejas q\n",
        "    INNER JOIN estatus_quejas eq\n",
        "      ON eq.id = q.id_estatus_queja\n",
        "    SET id_estatus_queja = (SELECT id FROM estatus_quejas eq2 WHERE eq2.descripcion = 'In progress')\n",
        "    WHERE eq.descripcion = 'Untimely response'\"\"\"\n",
        "cursor.execute(query)"
      ],
      "metadata": {
        "id": "u94XxZSuCQoG"
      },
      "execution_count": 69,
      "outputs": []
    },
    {
      "cell_type": "code",
      "source": [
        "query = \"SELECT * FROM datosqueja d WHERE estatus_queja = 'Untimely response'\"\n",
        "quejas = pd.read_sql(query, con = conn)"
      ],
      "metadata": {
        "id": "XPzWiSr-FM0b"
      },
      "execution_count": null,
      "outputs": []
    },
    {
      "cell_type": "code",
      "source": [
        "quejas"
      ],
      "metadata": {
        "colab": {
          "base_uri": "https://localhost:8080/",
          "height": 69
        },
        "id": "S-6cyfWTFWkK",
        "outputId": "cabd17d3-5341-45c5-a775-de6ac1d57dab"
      },
      "execution_count": 71,
      "outputs": [
        {
          "output_type": "execute_result",
          "data": {
            "text/plain": [
              "Empty DataFrame\n",
              "Columns: [id, fecha_recepcion, fecha_envio, producto, subproducto, asunto, subasunto, descripcion_queja, descripcion_solucion, compania, estado, codigo_postal, etiquetas, estatus_autorizacion, medio_comunicacion, estatus_queja, se_abre_disputa, tiempo_respuesta]\n",
              "Index: []"
            ],
            "text/html": [
              "<div>\n",
              "<style scoped>\n",
              "    .dataframe tbody tr th:only-of-type {\n",
              "        vertical-align: middle;\n",
              "    }\n",
              "\n",
              "    .dataframe tbody tr th {\n",
              "        vertical-align: top;\n",
              "    }\n",
              "\n",
              "    .dataframe thead th {\n",
              "        text-align: right;\n",
              "    }\n",
              "</style>\n",
              "<table border=\"1\" class=\"dataframe\">\n",
              "  <thead>\n",
              "    <tr style=\"text-align: right;\">\n",
              "      <th></th>\n",
              "      <th>id</th>\n",
              "      <th>fecha_recepcion</th>\n",
              "      <th>fecha_envio</th>\n",
              "      <th>producto</th>\n",
              "      <th>subproducto</th>\n",
              "      <th>asunto</th>\n",
              "      <th>subasunto</th>\n",
              "      <th>descripcion_queja</th>\n",
              "      <th>descripcion_solucion</th>\n",
              "      <th>compania</th>\n",
              "      <th>estado</th>\n",
              "      <th>codigo_postal</th>\n",
              "      <th>etiquetas</th>\n",
              "      <th>estatus_autorizacion</th>\n",
              "      <th>medio_comunicacion</th>\n",
              "      <th>estatus_queja</th>\n",
              "      <th>se_abre_disputa</th>\n",
              "      <th>tiempo_respuesta</th>\n",
              "    </tr>\n",
              "  </thead>\n",
              "  <tbody>\n",
              "  </tbody>\n",
              "</table>\n",
              "</div>"
            ]
          },
          "metadata": {},
          "execution_count": 71
        }
      ]
    },
    {
      "cell_type": "markdown",
      "source": [
        "Ahora eliminaremos el estatus queja de Untimely response, ya que ningún registro lo tiene."
      ],
      "metadata": {
        "id": "E2YV8bsXFZd6"
      }
    },
    {
      "cell_type": "code",
      "source": [
        "query = \"DELETE FROM estatus_quejas WHERE descripcion = 'Untimely response';\"\n",
        "cursor.execute(query)"
      ],
      "metadata": {
        "id": "1TiQ-W2ZGZOf"
      },
      "execution_count": 72,
      "outputs": []
    },
    {
      "cell_type": "code",
      "source": [
        "query = \"SELECT * FROM estatus_quejas d\"\n",
        "eq = pd.read_sql(query, con = conn)"
      ],
      "metadata": {
        "id": "t0l8tHFcGfAm"
      },
      "execution_count": null,
      "outputs": []
    },
    {
      "cell_type": "code",
      "source": [
        "eq"
      ],
      "metadata": {
        "colab": {
          "base_uri": "https://localhost:8080/",
          "height": 269
        },
        "id": "rcylS_rkGojR",
        "outputId": "8de5a0b5-9755-4711-f900-d073ee0e5d27"
      },
      "execution_count": 76,
      "outputs": [
        {
          "output_type": "execute_result",
          "data": {
            "text/plain": [
              "   id                      descripcion\n",
              "0   2                           Closed\n",
              "1   1          Closed with explanation\n",
              "2   4      Closed with monetary relief\n",
              "3   3  Closed with non-monetary relief\n",
              "4   7               Closed with relief\n",
              "5   6            Closed without relief\n",
              "6   8                      In progress"
            ],
            "text/html": [
              "<div>\n",
              "<style scoped>\n",
              "    .dataframe tbody tr th:only-of-type {\n",
              "        vertical-align: middle;\n",
              "    }\n",
              "\n",
              "    .dataframe tbody tr th {\n",
              "        vertical-align: top;\n",
              "    }\n",
              "\n",
              "    .dataframe thead th {\n",
              "        text-align: right;\n",
              "    }\n",
              "</style>\n",
              "<table border=\"1\" class=\"dataframe\">\n",
              "  <thead>\n",
              "    <tr style=\"text-align: right;\">\n",
              "      <th></th>\n",
              "      <th>id</th>\n",
              "      <th>descripcion</th>\n",
              "    </tr>\n",
              "  </thead>\n",
              "  <tbody>\n",
              "    <tr>\n",
              "      <th>0</th>\n",
              "      <td>2</td>\n",
              "      <td>Closed</td>\n",
              "    </tr>\n",
              "    <tr>\n",
              "      <th>1</th>\n",
              "      <td>1</td>\n",
              "      <td>Closed with explanation</td>\n",
              "    </tr>\n",
              "    <tr>\n",
              "      <th>2</th>\n",
              "      <td>4</td>\n",
              "      <td>Closed with monetary relief</td>\n",
              "    </tr>\n",
              "    <tr>\n",
              "      <th>3</th>\n",
              "      <td>3</td>\n",
              "      <td>Closed with non-monetary relief</td>\n",
              "    </tr>\n",
              "    <tr>\n",
              "      <th>4</th>\n",
              "      <td>7</td>\n",
              "      <td>Closed with relief</td>\n",
              "    </tr>\n",
              "    <tr>\n",
              "      <th>5</th>\n",
              "      <td>6</td>\n",
              "      <td>Closed without relief</td>\n",
              "    </tr>\n",
              "    <tr>\n",
              "      <th>6</th>\n",
              "      <td>8</td>\n",
              "      <td>In progress</td>\n",
              "    </tr>\n",
              "  </tbody>\n",
              "</table>\n",
              "</div>"
            ]
          },
          "metadata": {},
          "execution_count": 76
        }
      ]
    },
    {
      "cell_type": "markdown",
      "source": [
        "Ahora, vamos a insertar un nuevo tipo de medio de comunicación."
      ],
      "metadata": {
        "id": "0jR2rHMPG7T8"
      }
    },
    {
      "cell_type": "code",
      "source": [
        "query = \"\"\"INSERT INTO medios_comunicacion (nombre)\n",
        "  VALUES ('Personal');\"\"\"\n",
        "cursor.execute(query)"
      ],
      "metadata": {
        "id": "NUl-h_DlHNnK"
      },
      "execution_count": 77,
      "outputs": []
    },
    {
      "cell_type": "code",
      "source": [
        "query = \"SELECT * FROM medios_comunicacion order by id\"\n",
        "mc = pd.read_sql(query, con = conn)"
      ],
      "metadata": {
        "id": "CmmZXSLIHU61"
      },
      "execution_count": null,
      "outputs": []
    },
    {
      "cell_type": "code",
      "source": [
        "mc"
      ],
      "metadata": {
        "colab": {
          "base_uri": "https://localhost:8080/",
          "height": 269
        },
        "id": "0Ss1jlFyHcEZ",
        "outputId": "55e94e32-cf2f-4e53-bfa3-199f4da500b2"
      },
      "execution_count": 81,
      "outputs": [
        {
          "output_type": "execute_result",
          "data": {
            "text/plain": [
              "   id       nombre\n",
              "0   1        Phone\n",
              "1   2          Web\n",
              "2   3          Fax\n",
              "3   4     Referral\n",
              "4   5  Postal mail\n",
              "5   6        Email\n",
              "6   7     Personal"
            ],
            "text/html": [
              "<div>\n",
              "<style scoped>\n",
              "    .dataframe tbody tr th:only-of-type {\n",
              "        vertical-align: middle;\n",
              "    }\n",
              "\n",
              "    .dataframe tbody tr th {\n",
              "        vertical-align: top;\n",
              "    }\n",
              "\n",
              "    .dataframe thead th {\n",
              "        text-align: right;\n",
              "    }\n",
              "</style>\n",
              "<table border=\"1\" class=\"dataframe\">\n",
              "  <thead>\n",
              "    <tr style=\"text-align: right;\">\n",
              "      <th></th>\n",
              "      <th>id</th>\n",
              "      <th>nombre</th>\n",
              "    </tr>\n",
              "  </thead>\n",
              "  <tbody>\n",
              "    <tr>\n",
              "      <th>0</th>\n",
              "      <td>1</td>\n",
              "      <td>Phone</td>\n",
              "    </tr>\n",
              "    <tr>\n",
              "      <th>1</th>\n",
              "      <td>2</td>\n",
              "      <td>Web</td>\n",
              "    </tr>\n",
              "    <tr>\n",
              "      <th>2</th>\n",
              "      <td>3</td>\n",
              "      <td>Fax</td>\n",
              "    </tr>\n",
              "    <tr>\n",
              "      <th>3</th>\n",
              "      <td>4</td>\n",
              "      <td>Referral</td>\n",
              "    </tr>\n",
              "    <tr>\n",
              "      <th>4</th>\n",
              "      <td>5</td>\n",
              "      <td>Postal mail</td>\n",
              "    </tr>\n",
              "    <tr>\n",
              "      <th>5</th>\n",
              "      <td>6</td>\n",
              "      <td>Email</td>\n",
              "    </tr>\n",
              "    <tr>\n",
              "      <th>6</th>\n",
              "      <td>7</td>\n",
              "      <td>Personal</td>\n",
              "    </tr>\n",
              "  </tbody>\n",
              "</table>\n",
              "</div>"
            ]
          },
          "metadata": {},
          "execution_count": 81
        }
      ]
    },
    {
      "cell_type": "markdown",
      "source": [
        "Por último, vamos a trabajar con la vista de quejas, para mostrar en una gráfica la proporción de los productos y sus quejas."
      ],
      "metadata": {
        "id": "CPbl2vo0HiQ2"
      }
    },
    {
      "cell_type": "code",
      "source": [
        "query = \"SELECT * FROM datosqueja\"\n",
        "quejas = pd.read_sql(query, con = conn)"
      ],
      "metadata": {
        "id": "rKRHNfBtHxSO"
      },
      "execution_count": null,
      "outputs": []
    },
    {
      "cell_type": "code",
      "source": [
        "productos_count = quejas.producto.value_counts()\n",
        "productos_count"
      ],
      "metadata": {
        "colab": {
          "base_uri": "https://localhost:8080/"
        },
        "id": "Vd9yE4YiIJxY",
        "outputId": "87344dc0-6a67-4b86-934d-32dc43e2eee8"
      },
      "execution_count": 99,
      "outputs": [
        {
          "output_type": "execute_result",
          "data": {
            "text/plain": [
              "producto\n",
              "Mortgage                   3837\n",
              "Debt collection            2047\n",
              "Credit reporting           1535\n",
              "Bank account or service    1285\n",
              "Credit card                1225\n",
              "Consumer Loan               309\n",
              "Student loan                279\n",
              "Money transfers              78\n",
              "Payday loan                  26\n",
              "Name: count, dtype: int64"
            ]
          },
          "metadata": {},
          "execution_count": 99
        }
      ]
    },
    {
      "cell_type": "code",
      "source": [
        "plt.pie(\n",
        "    productos_count,\n",
        "    labels = quejas.producto.unique(),\n",
        "    autopct= '%1.1f%%'\n",
        ")\n",
        "plt.title('Productos')\n",
        "plt.show()"
      ],
      "metadata": {
        "colab": {
          "base_uri": "https://localhost:8080/",
          "height": 428
        },
        "id": "QESry77iK-gw",
        "outputId": "ae050e33-b912-4794-c8b1-41e84ce67307"
      },
      "execution_count": 100,
      "outputs": [
        {
          "output_type": "display_data",
          "data": {
            "text/plain": [
              "<Figure size 640x480 with 1 Axes>"
            ],
            "image/png": "[encoded data removed]"
          },
          "metadata": {}
        }
      ]
    }
  ]
}
